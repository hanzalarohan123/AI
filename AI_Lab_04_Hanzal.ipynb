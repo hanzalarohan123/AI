{
  "nbformat": 4,
  "nbformat_minor": 0,
  "metadata": {
    "colab": {
      "name": "AI_Lab 04_Hanzal.ipynb",
      "provenance": [],
      "collapsed_sections": [],
      "include_colab_link": true
    },
    "kernelspec": {
      "name": "python3",
      "display_name": "Python 3"
    }
  },
  "cells": [
    {
      "cell_type": "markdown",
      "metadata": {
        "id": "view-in-github",
        "colab_type": "text"
      },
      "source": [
        "<a href=\"https://colab.research.google.com/github/hanzalarohan123/Bootstrap/blob/master/AI_Lab_04_Hanzal.ipynb\" target=\"_parent\"><img src=\"https://colab.research.google.com/assets/colab-badge.svg\" alt=\"Open In Colab\"/></a>"
      ]
    },
    {
      "cell_type": "markdown",
      "metadata": {
        "id": "dYMZJar8mPQZ"
      },
      "source": [
        "<h1>Classification</h1>"
      ]
    },
    {
      "cell_type": "markdown",
      "metadata": {
        "id": "8WigfH8Dnfkx"
      },
      "source": [
        "Mounting the drive"
      ]
    },
    {
      "cell_type": "code",
      "metadata": {
        "id": "N-imfbCgl773",
        "outputId": "9564fc3a-6cc5-4e5b-fdcd-a00b62046365",
        "colab": {
          "base_uri": "https://localhost:8080/"
        }
      },
      "source": [
        "from google.colab import drive\n",
        "drive.mount('/content/gdrive')"
      ],
      "execution_count": 1,
      "outputs": [
        {
          "output_type": "stream",
          "text": [
            "Mounted at /content/gdrive\n"
          ],
          "name": "stdout"
        }
      ]
    },
    {
      "cell_type": "markdown",
      "metadata": {
        "id": "V2GBxtBdn-xa"
      },
      "source": [
        "Libraries"
      ]
    },
    {
      "cell_type": "code",
      "metadata": {
        "id": "wC7t74o_nlhx"
      },
      "source": [
        "import os\n",
        "import pandas as pd\n",
        "import math\n",
        "import matplotlib.pyplot as plt\n",
        "import seaborn as sns #Visualization\n",
        "from sklearn.linear_model import LinearRegression"
      ],
      "execution_count": 2,
      "outputs": []
    },
    {
      "cell_type": "markdown",
      "metadata": {
        "id": "aWPzEFhMo-mg"
      },
      "source": [
        "Accessing the contents of the drive\n"
      ]
    },
    {
      "cell_type": "code",
      "metadata": {
        "id": "EJrBPirjn52F",
        "outputId": "bfe3f8c5-7a34-4a36-e3c6-daf2a4c15104",
        "colab": {
          "base_uri": "https://localhost:8080/"
        }
      },
      "source": [
        "%cd /content/gdrive/My Drive/"
      ],
      "execution_count": 3,
      "outputs": [
        {
          "output_type": "stream",
          "text": [
            "/content/gdrive/My Drive\n"
          ],
          "name": "stdout"
        }
      ]
    },
    {
      "cell_type": "code",
      "metadata": {
        "id": "LVV58g27pCBA",
        "outputId": "1ff93287-b431-4fcc-d4e2-c2c6778df471",
        "colab": {
          "base_uri": "https://localhost:8080/"
        }
      },
      "source": [
        "!ls"
      ],
      "execution_count": 4,
      "outputs": [
        {
          "output_type": "stream",
          "text": [
            " Book1.csv\t\t lab3pdf.pdf\n",
            " Book1.csv.xlsx\t\t LAB3.rar\n",
            " Book1.xlsx\t\t'Lab_3_Task_1 (1).ipynb'\n",
            " cert\t\t\t lab4.rar\n",
            " Classroom\t\t loan_data_set.csv\n",
            "'Colab Notebooks'\t'Muhammad Hanzala Qureshi SP18-BCSC-0068  (1).docx'\n",
            "'Copy of diabetes.csv'\t'Muhammad Hanzala Qureshi SP18-BCSC-0068 .docx'\n",
            " diabetes.csv\t\t Multivariate_regression_data.csv\n",
            "'Getting started.pdf'\t'Registers in 8086.gslides'\n",
            " Good-EQ.pdf\t\t'Screenshot 2020-11-12 112244.png'\n",
            " insurance.csv\t\t'Screenshot from 2020-10-15 19-08-38.png'\n",
            " kaggle\t\t\t'Screenshot from 2020-10-15 19-08-44.png'\n",
            " Kaggle\t\t\t'Semester 6'\n",
            " lab123.asm.gdoc\t'Task2.ipynb - Colaboratory.pdf'\n",
            " LAB3.gdoc\t\t TASM\n",
            " LAB3.odt\t\t Untitled7.ipynb\n"
          ],
          "name": "stdout"
        }
      ]
    },
    {
      "cell_type": "markdown",
      "metadata": {
        "id": "lhzT9E43pJ4B"
      },
      "source": [
        "Import data set from kaggle"
      ]
    },
    {
      "cell_type": "code",
      "metadata": {
        "id": "U2dsbfMrpFAI"
      },
      "source": [
        "import os\n",
        "os.environ['KAGGLE_CONFIG_DIR'] = \"/content/gdrive/My Drive/kaggle\""
      ],
      "execution_count": null,
      "outputs": []
    },
    {
      "cell_type": "code",
      "metadata": {
        "id": "50DEF1B8pRI_",
        "outputId": "c46adb98-3772-4eb8-fb26-0b64cdc9232c",
        "colab": {
          "base_uri": "https://localhost:8080/"
        }
      },
      "source": [
        "%cd /content/gdrive/My Drive/Kaggle"
      ],
      "execution_count": 5,
      "outputs": [
        {
          "output_type": "stream",
          "text": [
            "/content/gdrive/My Drive/Kaggle\n"
          ],
          "name": "stdout"
        }
      ]
    },
    {
      "cell_type": "code",
      "metadata": {
        "id": "X1EJS6fbpXYY",
        "outputId": "f874b796-0f0d-4e75-a0e6-2e7f28b557b5",
        "colab": {
          "base_uri": "https://localhost:8080/"
        }
      },
      "source": [
        "!kaggle datasets download -d burak3ergun/loan-data-set"
      ],
      "execution_count": null,
      "outputs": [
        {
          "output_type": "stream",
          "text": [
            "Traceback (most recent call last):\n",
            "  File \"/usr/local/bin/kaggle\", line 5, in <module>\n",
            "    from kaggle.cli import main\n",
            "  File \"/usr/local/lib/python2.7/dist-packages/kaggle/__init__.py\", line 23, in <module>\n",
            "    api.authenticate()\n",
            "  File \"/usr/local/lib/python2.7/dist-packages/kaggle/api/kaggle_api_extended.py\", line 146, in authenticate\n",
            "    self.config_file, self.config_dir))\n",
            "IOError: Could not find kaggle.json. Make sure it's located in /content/gdrive/My Drive/kaggle. Or use the environment method.\n"
          ],
          "name": "stdout"
        }
      ]
    },
    {
      "cell_type": "code",
      "metadata": {
        "id": "g23YiwcJpiht",
        "outputId": "1ca04bf5-a758-4962-ad10-a046194fc295",
        "colab": {
          "base_uri": "https://localhost:8080/"
        }
      },
      "source": [
        "!ls"
      ],
      "execution_count": 6,
      "outputs": [
        {
          "output_type": "stream",
          "text": [
            "diabetes.csv  kaggle.json\n"
          ],
          "name": "stdout"
        }
      ]
    },
    {
      "cell_type": "code",
      "metadata": {
        "id": "T3ITWhyhptQd",
        "outputId": "03a2b5a3-3963-43d2-e568-9ac58c9214b2",
        "colab": {
          "base_uri": "https://localhost:8080/"
        }
      },
      "source": [
        "!unzip \\loan-data-set.zip  && rm loan-data-set.zip"
      ],
      "execution_count": null,
      "outputs": [
        {
          "output_type": "stream",
          "text": [
            "unzip:  cannot find or open loan-data-set.zip, loan-data-set.zip.zip or loan-data-set.zip.ZIP.\n"
          ],
          "name": "stdout"
        }
      ]
    },
    {
      "cell_type": "code",
      "metadata": {
        "id": "cMVMDjZ7pzoI",
        "outputId": "d3322067-f396-474d-fc83-2cd577e0f2b1",
        "colab": {
          "base_uri": "https://localhost:8080/"
        }
      },
      "source": [
        "!ls"
      ],
      "execution_count": null,
      "outputs": [
        {
          "output_type": "stream",
          "text": [
            "diabetes.csv  kaggle.json\n"
          ],
          "name": "stdout"
        }
      ]
    },
    {
      "cell_type": "markdown",
      "metadata": {
        "id": "3w78x2yqp4yv"
      },
      "source": [
        "Reading data set"
      ]
    },
    {
      "cell_type": "code",
      "metadata": {
        "id": "wsN_aM45p379",
        "outputId": "f6817b47-ced9-482d-9916-2ecc43f85689",
        "colab": {
          "base_uri": "https://localhost:8080/"
        }
      },
      "source": [
        "df_class = pd.read_csv('diabetes.csv')\n",
        "print('\\nNumber of rows and columns in the data set: ',df_class.shape)\n",
        "print('')"
      ],
      "execution_count": 7,
      "outputs": [
        {
          "output_type": "stream",
          "text": [
            "\n",
            "Number of rows and columns in the data set:  (768, 9)\n",
            "\n"
          ],
          "name": "stdout"
        }
      ]
    },
    {
      "cell_type": "code",
      "metadata": {
        "id": "pbsS_qiGqtPB",
        "outputId": "98d35228-47a4-4086-ed7c-f576043564ff",
        "colab": {
          "base_uri": "https://localhost:8080/"
        }
      },
      "source": [
        "print(df_class.head())"
      ],
      "execution_count": 8,
      "outputs": [
        {
          "output_type": "stream",
          "text": [
            "   Pregnancies  Glucose  BloodPressure  ...  DiabetesPedigreeFunction  Age  Outcome\n",
            "0            6      148             72  ...                     0.627   50        1\n",
            "1            1       85             66  ...                     0.351   31        0\n",
            "2            8      183             64  ...                     0.672   32        1\n",
            "3            1       89             66  ...                     0.167   21        0\n",
            "4            0      137             40  ...                     2.288   33        1\n",
            "\n",
            "[5 rows x 9 columns]\n"
          ],
          "name": "stdout"
        }
      ]
    },
    {
      "cell_type": "markdown",
      "metadata": {
        "id": "MaKn01G5seJi"
      },
      "source": [
        "Check the features will null using heat map"
      ]
    },
    {
      "cell_type": "code",
      "metadata": {
        "id": "Mlf56xu-rnIE",
        "outputId": "f3e85663-f4bc-40fd-fb83-0fa9ab4b95b6",
        "colab": {
          "base_uri": "https://localhost:8080/",
          "height": 420
        }
      },
      "source": [
        "plt.figure(figsize=(12,4))\n",
        "sns.heatmap(df_class.isnull(),cbar=False,cmap='coolwarm',yticklabels=False)\n",
        "plt.title('Missing value in the dataset')"
      ],
      "execution_count": 9,
      "outputs": [
        {
          "output_type": "execute_result",
          "data": {
            "text/plain": [
              "Text(0.5, 1.0, 'Missing value in the dataset')"
            ]
          },
          "metadata": {
            "tags": []
          },
          "execution_count": 9
        },
        {
          "output_type": "display_data",
          "data": {
            "image/png": "[encoded data removed]",
            "text/plain": [
              "<Figure size 864x288 with 1 Axes>"
            ]
          },
          "metadata": {
            "tags": [],
            "needs_background": "light"
          }
        }
      ]
    },
    {
      "cell_type": "markdown",
      "metadata": {
        "id": "BkpFYVvasorJ"
      },
      "source": [
        "Find the sum of null values in each feature/column"
      ]
    },
    {
      "cell_type": "code",
      "metadata": {
        "id": "hSZLkURwsOpu",
        "outputId": "eb6113ee-856e-4f32-ebef-664e30c15d99",
        "colab": {
          "base_uri": "https://localhost:8080/"
        }
      },
      "source": [
        "df_class.isnull().sum()"
      ],
      "execution_count": 10,
      "outputs": [
        {
          "output_type": "execute_result",
          "data": {
            "text/plain": [
              "Pregnancies                 0\n",
              "Glucose                     0\n",
              "BloodPressure               0\n",
              "SkinThickness               0\n",
              "Insulin                     0\n",
              "BMI                         0\n",
              "DiabetesPedigreeFunction    0\n",
              "Age                         0\n",
              "Outcome                     0\n",
              "dtype: int64"
            ]
          },
          "metadata": {
            "tags": []
          },
          "execution_count": 10
        }
      ]
    },
    {
      "cell_type": "code",
      "metadata": {
        "id": "iES4WYsFsv2n",
        "outputId": "ede62065-673c-4bf0-d162-fa540a38e116",
        "colab": {
          "base_uri": "https://localhost:8080/"
        }
      },
      "source": [
        "print(df_class.info())"
      ],
      "execution_count": 11,
      "outputs": [
        {
          "output_type": "stream",
          "text": [
            "<class 'pandas.core.frame.DataFrame'>\n",
            "RangeIndex: 768 entries, 0 to 767\n",
            "Data columns (total 9 columns):\n",
            " #   Column                    Non-Null Count  Dtype  \n",
            "---  ------                    --------------  -----  \n",
            " 0   Pregnancies               768 non-null    int64  \n",
            " 1   Glucose                   768 non-null    int64  \n",
            " 2   BloodPressure             768 non-null    int64  \n",
            " 3   SkinThickness             768 non-null    int64  \n",
            " 4   Insulin                   768 non-null    int64  \n",
            " 5   BMI                       768 non-null    float64\n",
            " 6   DiabetesPedigreeFunction  768 non-null    float64\n",
            " 7   Age                       768 non-null    int64  \n",
            " 8   Outcome                   768 non-null    int64  \n",
            "dtypes: float64(2), int64(7)\n",
            "memory usage: 54.1 KB\n",
            "None\n"
          ],
          "name": "stdout"
        }
      ]
    },
    {
      "cell_type": "code",
      "metadata": {
        "id": "yG_jwpzJs_bD",
        "outputId": "556a749c-9a74-41bb-94f3-cdce557d4021",
        "colab": {
          "base_uri": "https://localhost:8080/"
        }
      },
      "source": [
        "df_class.nunique()"
      ],
      "execution_count": 12,
      "outputs": [
        {
          "output_type": "execute_result",
          "data": {
            "text/plain": [
              "Pregnancies                  17\n",
              "Glucose                     136\n",
              "BloodPressure                47\n",
              "SkinThickness                51\n",
              "Insulin                     186\n",
              "BMI                         248\n",
              "DiabetesPedigreeFunction    517\n",
              "Age                          52\n",
              "Outcome                       2\n",
              "dtype: int64"
            ]
          },
          "metadata": {
            "tags": []
          },
          "execution_count": 12
        }
      ]
    },
    {
      "cell_type": "code",
      "metadata": {
        "id": "DEVlsJHQ_C3U",
        "outputId": "b968f39b-9462-47ce-80f3-f010f2fa465c",
        "colab": {
          "base_uri": "https://localhost:8080/"
        }
      },
      "source": [
        "df_class.info()"
      ],
      "execution_count": 13,
      "outputs": [
        {
          "output_type": "stream",
          "text": [
            "<class 'pandas.core.frame.DataFrame'>\n",
            "RangeIndex: 768 entries, 0 to 767\n",
            "Data columns (total 9 columns):\n",
            " #   Column                    Non-Null Count  Dtype  \n",
            "---  ------                    --------------  -----  \n",
            " 0   Pregnancies               768 non-null    int64  \n",
            " 1   Glucose                   768 non-null    int64  \n",
            " 2   BloodPressure             768 non-null    int64  \n",
            " 3   SkinThickness             768 non-null    int64  \n",
            " 4   Insulin                   768 non-null    int64  \n",
            " 5   BMI                       768 non-null    float64\n",
            " 6   DiabetesPedigreeFunction  768 non-null    float64\n",
            " 7   Age                       768 non-null    int64  \n",
            " 8   Outcome                   768 non-null    int64  \n",
            "dtypes: float64(2), int64(7)\n",
            "memory usage: 54.1 KB\n"
          ],
          "name": "stdout"
        }
      ]
    },
    {
      "cell_type": "code",
      "metadata": {
        "id": "OvdOGEuuUz8F",
        "outputId": "2484d529-8a77-462a-f99d-7db702cfc373",
        "colab": {
          "base_uri": "https://localhost:8080/"
        }
      },
      "source": [
        "# Scaling for Numerical data set\n",
        "#from sklearn.preprocessing import StandardScaler\n",
        "#sc=StandardScaler()\n",
        "#data_numerical.iloc[:,1:] =sc.fit_transform(data_numerical.iloc[:,1:])  "
      ],
      "execution_count": null,
      "outputs": [
        {
          "output_type": "stream",
          "text": [
            "/usr/local/lib/python3.6/dist-packages/pandas/core/indexing.py:1734: SettingWithCopyWarning: \n",
            "A value is trying to be set on a copy of a slice from a DataFrame.\n",
            "Try using .loc[row_indexer,col_indexer] = value instead\n",
            "\n",
            "See the caveats in the documentation: https://pandas.pydata.org/pandas-docs/stable/user_guide/indexing.html#returning-a-view-versus-a-copy\n",
            "  isetter(loc, value[:, i].tolist())\n"
          ],
          "name": "stderr"
        }
      ]
    },
    {
      "cell_type": "code",
      "metadata": {
        "id": "XRV8vnubVvFJ",
        "outputId": "2ca1864e-413c-4e08-a9cb-98eaee4f7714",
        "colab": {
          "base_uri": "https://localhost:8080/"
        }
      },
      "source": [
        "# Lets verify the dummay variable process\n",
        "print('Columns in original data frame:\\n',df_class.columns.values) #original dataframe column names\n",
        "print('\\nNumber of rows and columns in the dataset:',df_class.shape) #previous dataframe shape\n",
        "#print('\\nColumns in data frame after encoding dummy variable:\\n',df_Loan.columns.values) #original dataframe column names\n",
        "#print('\\nNumber of rows and columns in the dataset:',df_Loan.shape) #updated data frame shape"
      ],
      "execution_count": null,
      "outputs": [
        {
          "output_type": "stream",
          "text": [
            "Columns in original data frame:\n",
            " ['Pregnancies' 'Glucose' 'BloodPressure' 'SkinThickness' 'Insulin' 'BMI'\n",
            " 'DiabetesPedigreeFunction' 'Age' 'Outcome']\n",
            "\n",
            "Number of rows and columns in the dataset: (768, 9)\n"
          ],
          "name": "stdout"
        }
      ]
    },
    {
      "cell_type": "markdown",
      "metadata": {
        "id": "LyqnnwXOg_0Q"
      },
      "source": [
        "Distributing data in **training and testing**\n"
      ]
    },
    {
      "cell_type": "code",
      "metadata": {
        "id": "d5Ta7c_VYV_X"
      },
      "source": [
        "from sklearn.model_selection import train_test_split\n",
        "X_train,X_test,y_train,y_test =train_test_split(df_class.drop(['Outcome'],axis=1),df_class.Outcome,test_size=0.30,random_state=0)# chane zero to 20,10"
      ],
      "execution_count": 16,
      "outputs": []
    },
    {
      "cell_type": "markdown",
      "metadata": {
        "id": "c4wAekIyhHvJ"
      },
      "source": [
        "Importing SVM and creating the model"
      ]
    },
    {
      "cell_type": "code",
      "metadata": {
        "id": "iLw1ClxqZ3OU"
      },
      "source": [
        "from sklearn.svm import SVC\n",
        "svc_model=SVC()"
      ],
      "execution_count": 17,
      "outputs": []
    },
    {
      "cell_type": "markdown",
      "metadata": {
        "id": "s9I_vx34hMsP"
      },
      "source": [
        "<h1>SUPPORT VECTOR CLASSIFIER</h1>\n",
        "Creating the **SVM model** and run prediction on testing data"
      ]
    },
    {
      "cell_type": "code",
      "metadata": {
        "id": "0yz0zUY9Y2k5"
      },
      "source": [
        "svc_model.fit(X_train,y_train)\n",
        "svm_pred=svc_model.predict(X_test)\n"
      ],
      "execution_count": 18,
      "outputs": []
    },
    {
      "cell_type": "markdown",
      "metadata": {
        "id": "L2x_DLQChSTX"
      },
      "source": [
        "Importing **evaluation** libraries"
      ]
    },
    {
      "cell_type": "code",
      "metadata": {
        "id": "4aZb4syvfkMs"
      },
      "source": [
        "from sklearn.metrics import classification_report, confusion_matrix, accuracy_score"
      ],
      "execution_count": 19,
      "outputs": []
    },
    {
      "cell_type": "markdown",
      "metadata": {
        "id": "gPnAAwMEhX6K"
      },
      "source": [
        "**Confusion matrix** and **Accuracy** score"
      ]
    },
    {
      "cell_type": "code",
      "metadata": {
        "id": "ifnoUfQ9aBLS",
        "outputId": "e8d3c06c-d2c1-4f02-ab17-d6520be53d85",
        "colab": {
          "base_uri": "https://localhost:8080/"
        }
      },
      "source": [
        "\n",
        "cm=confusion_matrix(y_test,svm_pred)\n",
        "print(cm)\n",
        "\n",
        "from sklearn.metrics import accuracy_score\n",
        "print(accuracy_score(y_test,svm_pred))"
      ],
      "execution_count": 20,
      "outputs": [
        {
          "output_type": "stream",
          "text": [
            "[[142  15]\n",
            " [ 42  32]]\n",
            "0.7532467532467533\n"
          ],
          "name": "stdout"
        }
      ]
    },
    {
      "cell_type": "code",
      "metadata": {
        "id": "R36hlFvlcH7s",
        "outputId": "471aec08-97d8-4ac8-f572-ebbfeb4241d8",
        "colab": {
          "base_uri": "https://localhost:8080/"
        }
      },
      "source": [
        "print(\"SVM  -> \",accuracy_score(y_test,svm_pred)*100)"
      ],
      "execution_count": 21,
      "outputs": [
        {
          "output_type": "stream",
          "text": [
            "SVM  ->  75.32467532467533\n"
          ],
          "name": "stdout"
        }
      ]
    },
    {
      "cell_type": "markdown",
      "metadata": {
        "id": "2lW8oDArhe60"
      },
      "source": [
        "**Classification Report**"
      ]
    },
    {
      "cell_type": "code",
      "metadata": {
        "id": "KcMuo3PteZcc",
        "outputId": "a20bae12-d774-40dd-ddfc-00fd0d67549e",
        "colab": {
          "base_uri": "https://localhost:8080/"
        }
      },
      "source": [
        "print(confusion_matrix(y_test,svm_pred))\n",
        "print(classification_report(y_test,svm_pred))\n",
        "print(accuracy_score(y_test, svm_pred))"
      ],
      "execution_count": 22,
      "outputs": [
        {
          "output_type": "stream",
          "text": [
            "[[142  15]\n",
            " [ 42  32]]\n",
            "              precision    recall  f1-score   support\n",
            "\n",
            "           0       0.77      0.90      0.83       157\n",
            "           1       0.68      0.43      0.53        74\n",
            "\n",
            "    accuracy                           0.75       231\n",
            "   macro avg       0.73      0.67      0.68       231\n",
            "weighted avg       0.74      0.75      0.74       231\n",
            "\n",
            "0.7532467532467533\n"
          ],
          "name": "stdout"
        }
      ]
    },
    {
      "cell_type": "markdown",
      "metadata": {
        "id": "3QbIAjNiiGUV"
      },
      "source": [
        "<h1>Naive Bayes</h1>"
      ]
    },
    {
      "cell_type": "code",
      "metadata": {
        "id": "g76isMRdiiC9"
      },
      "source": [
        "from sklearn import naive_bayes\n",
        "Naive = naive_bayes.GaussianNB()"
      ],
      "execution_count": 23,
      "outputs": []
    },
    {
      "cell_type": "code",
      "metadata": {
        "id": "HIXY02GxfPMc",
        "outputId": "fab76c94-574a-44df-f6d1-b0e576b6e33a",
        "colab": {
          "base_uri": "https://localhost:8080/"
        }
      },
      "source": [
        "# fit the training dataset on the NB classifier\n",
        "Naive.fit(X_train,y_train)# predict the labels on validation dataset\n",
        "predictions_NB= Naive.predict(X_test)# Use accuracy_score function to get the accuracy\n",
        "print(\"Naive Bayes Accuracy Score -> \",accuracy_score(predictions_NB, y_test)*100)"
      ],
      "execution_count": 24,
      "outputs": [
        {
          "output_type": "stream",
          "text": [
            "Naive Bayes Accuracy Score ->  76.19047619047619\n"
          ],
          "name": "stdout"
        }
      ]
    },
    {
      "cell_type": "code",
      "metadata": {
        "id": "CYS0IsbIk1X5",
        "outputId": "983b161b-d4be-4a6d-c4e9-136e6db27a7e",
        "colab": {
          "base_uri": "https://localhost:8080/"
        }
      },
      "source": [
        "print(confusion_matrix(y_test,predictions_NB))\n",
        "print(classification_report(y_test,predictions_NB))\n",
        "print(accuracy_score(y_test,predictions_NB))"
      ],
      "execution_count": 25,
      "outputs": [
        {
          "output_type": "stream",
          "text": [
            "[[138  19]\n",
            " [ 36  38]]\n",
            "              precision    recall  f1-score   support\n",
            "\n",
            "           0       0.79      0.88      0.83       157\n",
            "           1       0.67      0.51      0.58        74\n",
            "\n",
            "    accuracy                           0.76       231\n",
            "   macro avg       0.73      0.70      0.71       231\n",
            "weighted avg       0.75      0.76      0.75       231\n",
            "\n",
            "0.7619047619047619\n"
          ],
          "name": "stdout"
        }
      ]
    },
    {
      "cell_type": "markdown",
      "metadata": {
        "id": "H4e_O-XHldwx"
      },
      "source": [
        "<h1>K-nearest Neighbour<h1>"
      ]
    },
    {
      "cell_type": "code",
      "metadata": {
        "id": "RA_Ai_IvlXVn"
      },
      "source": [
        "from sklearn.neighbors import KNeighborsClassifier"
      ],
      "execution_count": 26,
      "outputs": []
    },
    {
      "cell_type": "code",
      "metadata": {
        "id": "GCmJzchLnn43"
      },
      "source": [
        "knn = KNeighborsClassifier(n_neighbors=3)"
      ],
      "execution_count": 27,
      "outputs": []
    },
    {
      "cell_type": "code",
      "metadata": {
        "id": "j4BL6YVLnrxS",
        "outputId": "73470249-9281-4a3b-c0b2-dfd8a3fd6bcb",
        "colab": {
          "base_uri": "https://localhost:8080/"
        }
      },
      "source": [
        "knn.fit(X_train, y_train)"
      ],
      "execution_count": 28,
      "outputs": [
        {
          "output_type": "execute_result",
          "data": {
            "text/plain": [
              "KNeighborsClassifier(algorithm='auto', leaf_size=30, metric='minkowski',\n",
              "                     metric_params=None, n_jobs=None, n_neighbors=3, p=2,\n",
              "                     weights='uniform')"
            ]
          },
          "metadata": {
            "tags": []
          },
          "execution_count": 28
        }
      ]
    },
    {
      "cell_type": "code",
      "metadata": {
        "id": "kXKG1Iamnuv6"
      },
      "source": [
        "knn_pred = knn.predict(X_test)"
      ],
      "execution_count": 29,
      "outputs": []
    },
    {
      "cell_type": "code",
      "metadata": {
        "id": "NiTjV627nxyc",
        "outputId": "f3594ccf-9670-4d91-a1bc-9fa4edad53f8",
        "colab": {
          "base_uri": "https://localhost:8080/"
        }
      },
      "source": [
        "print(\"Accuracy:\",accuracy_score(y_test, knn_pred))"
      ],
      "execution_count": 30,
      "outputs": [
        {
          "output_type": "stream",
          "text": [
            "Accuracy: 0.6926406926406926\n"
          ],
          "name": "stdout"
        }
      ]
    },
    {
      "cell_type": "code",
      "metadata": {
        "id": "xebzy_xvn_H8",
        "outputId": "ee04d7e0-ad58-485c-aed4-7f35a5258837",
        "colab": {
          "base_uri": "https://localhost:8080/"
        }
      },
      "source": [
        "print(confusion_matrix(y_test,knn_pred))\n",
        "print(classification_report(y_test,knn_pred))\n",
        "print(accuracy_score(y_test,knn_pred))\n",
        "print('erroe')\n",
        "\n",
        "print(1-accuracy_score(y_test,knn_pred))"
      ],
      "execution_count": 31,
      "outputs": [
        {
          "output_type": "stream",
          "text": [
            "[[123  34]\n",
            " [ 37  37]]\n",
            "              precision    recall  f1-score   support\n",
            "\n",
            "           0       0.77      0.78      0.78       157\n",
            "           1       0.52      0.50      0.51        74\n",
            "\n",
            "    accuracy                           0.69       231\n",
            "   macro avg       0.64      0.64      0.64       231\n",
            "weighted avg       0.69      0.69      0.69       231\n",
            "\n",
            "0.6926406926406926\n",
            "erroe\n",
            "0.3073593073593074\n"
          ],
          "name": "stdout"
        }
      ]
    },
    {
      "cell_type": "markdown",
      "metadata": {
        "id": "ivCHROIQpFqT"
      },
      "source": [
        "Try KNN model with different number of K and perform evaluation."
      ]
    },
    {
      "cell_type": "markdown",
      "metadata": {
        "id": "ECPJAYv8pu43"
      },
      "source": [
        "<h1> Decision Tree <h1>"
      ]
    },
    {
      "cell_type": "code",
      "metadata": {
        "id": "IBmFsmjooxPi"
      },
      "source": [
        "from sklearn.tree import DecisionTreeClassifier"
      ],
      "execution_count": 32,
      "outputs": []
    },
    {
      "cell_type": "code",
      "metadata": {
        "id": "AL1Vobd6qTsM"
      },
      "source": [
        "dtc = DecisionTreeClassifier()"
      ],
      "execution_count": 33,
      "outputs": []
    },
    {
      "cell_type": "code",
      "metadata": {
        "id": "f2XlZt8aqyJL"
      },
      "source": [
        "# Train Decision Tree Classifer\n",
        "dtc.fit(X_train,y_train)\n",
        "\n",
        "#Predict the response for test dataset\n",
        "dtc_pred = dtc.predict(X_test)"
      ],
      "execution_count": 34,
      "outputs": []
    },
    {
      "cell_type": "code",
      "metadata": {
        "id": "vPf9kTY0q9df",
        "outputId": "5d08e78d-a23d-46d1-af3c-ca48702fa30f",
        "colab": {
          "base_uri": "https://localhost:8080/"
        }
      },
      "source": [
        "print(confusion_matrix(y_test,dtc_pred))\n",
        "print(classification_report(y_test,dtc_pred))\n",
        "print(accuracy_score(y_test,dtc_pred))"
      ],
      "execution_count": 35,
      "outputs": [
        {
          "output_type": "stream",
          "text": [
            "[[127  30]\n",
            " [ 27  47]]\n",
            "              precision    recall  f1-score   support\n",
            "\n",
            "           0       0.82      0.81      0.82       157\n",
            "           1       0.61      0.64      0.62        74\n",
            "\n",
            "    accuracy                           0.75       231\n",
            "   macro avg       0.72      0.72      0.72       231\n",
            "weighted avg       0.76      0.75      0.75       231\n",
            "\n",
            "0.7532467532467533\n"
          ],
          "name": "stdout"
        }
      ]
    },
    {
      "cell_type": "markdown",
      "metadata": {
        "id": "aweEMjay3xJO"
      },
      "source": [
        "<H1> ENSEMBLE <H1>"
      ]
    },
    {
      "cell_type": "markdown",
      "metadata": {
        "id": "nWxH7fBt6M7Z"
      },
      "source": [
        "<h2> Simple Average Approach</h2>"
      ]
    },
    {
      "cell_type": "code",
      "metadata": {
        "id": "fVHEKGnu6MIJ",
        "outputId": "22c76d35-2d45-4b35-c7d1-1e1740f2eaea",
        "colab": {
          "base_uri": "https://localhost:8080/"
        }
      },
      "source": [
        "averaged_preds = (svm_pred + predictions_NB + dtc_pred+knn_pred)//3\n",
        "acc = accuracy_score(y_test, averaged_preds)\n",
        "print(acc)\n",
        "print('error')\n",
        "print(1-acc)"
      ],
      "execution_count": 67,
      "outputs": [
        {
          "output_type": "stream",
          "text": [
            "0.7748917748917749\n",
            "error\n",
            "0.22510822510822515\n"
          ],
          "name": "stdout"
        }
      ]
    },
    {
      "cell_type": "code",
      "metadata": {
        "id": "tpY88fTt5U-s"
      },
      "source": [
        "from sklearn.ensemble import RandomForestClassifier, VotingClassifier"
      ],
      "execution_count": 40,
      "outputs": []
    },
    {
      "cell_type": "markdown",
      "metadata": {
        "id": "RguTN5ypJGNI"
      },
      "source": [
        "<h3>Stacking</h3>"
      ]
    },
    {
      "cell_type": "markdown",
      "metadata": {
        "id": "g2uyMSqP5sfQ"
      },
      "source": [
        "<h2>Voting Classifier</h2>"
      ]
    },
    {
      "cell_type": "code",
      "metadata": {
        "id": "JihqplbH30Jf",
        "outputId": "ad55a185-0340-4d3b-9db8-95bea988ce5e",
        "colab": {
          "base_uri": "https://localhost:8080/"
        }
      },
      "source": [
        "voting_clf = VotingClassifier(estimators=[('SVC', SVC()), ('DTree', dtc), ('NaiveBayes', Naive),('KNN',knn)], voting='hard')\n",
        "voting_clf.fit(X_train, y_train)\n",
        "\n"
      ],
      "execution_count": 41,
      "outputs": [
        {
          "output_type": "execute_result",
          "data": {
            "text/plain": [
              "VotingClassifier(estimators=[('SVC',\n",
              "                              SVC(C=1.0, break_ties=False, cache_size=200,\n",
              "                                  class_weight=None, coef0=0.0,\n",
              "                                  decision_function_shape='ovr', degree=3,\n",
              "                                  gamma='scale', kernel='rbf', max_iter=-1,\n",
              "                                  probability=False, random_state=None,\n",
              "                                  shrinking=True, tol=0.001, verbose=False)),\n",
              "                             ('DTree',\n",
              "                              DecisionTreeClassifier(ccp_alpha=0.0,\n",
              "                                                     class_weight=None,\n",
              "                                                     criterion='gini',\n",
              "                                                     max_dept...\n",
              "                                                     min_weight_fraction_leaf=0.0,\n",
              "                                                     presort='deprecated',\n",
              "                                                     random_state=None,\n",
              "                                                     splitter='best')),\n",
              "                             ('NaiveBayes',\n",
              "                              GaussianNB(priors=None, var_smoothing=1e-09)),\n",
              "                             ('KNN',\n",
              "                              KNeighborsClassifier(algorithm='auto',\n",
              "                                                   leaf_size=30,\n",
              "                                                   metric='minkowski',\n",
              "                                                   metric_params=None,\n",
              "                                                   n_jobs=None, n_neighbors=3,\n",
              "                                                   p=2, weights='uniform'))],\n",
              "                 flatten_transform=True, n_jobs=None, voting='hard',\n",
              "                 weights=None)"
            ]
          },
          "metadata": {
            "tags": []
          },
          "execution_count": 41
        }
      ]
    },
    {
      "cell_type": "code",
      "metadata": {
        "id": "03DPQs2Y5Bnl"
      },
      "source": [
        "preds = voting_clf.predict(X_test)"
      ],
      "execution_count": 42,
      "outputs": []
    },
    {
      "cell_type": "code",
      "metadata": {
        "id": "1-C5KKmB4_7u",
        "outputId": "a118e4b8-f386-487b-c3ce-96b0ebb4f7c7",
        "colab": {
          "base_uri": "https://localhost:8080/"
        }
      },
      "source": [
        "print(confusion_matrix(y_test,preds))\n",
        "print(classification_report(y_test,preds))\n",
        "print(accuracy_score(y_test,preds))\n",
        "print('error')\n",
        "print(1-accuracy_score(y_test,preds))"
      ],
      "execution_count": 43,
      "outputs": [
        {
          "output_type": "stream",
          "text": [
            "[[144  13]\n",
            " [ 40  34]]\n",
            "              precision    recall  f1-score   support\n",
            "\n",
            "           0       0.78      0.92      0.84       157\n",
            "           1       0.72      0.46      0.56        74\n",
            "\n",
            "    accuracy                           0.77       231\n",
            "   macro avg       0.75      0.69      0.70       231\n",
            "weighted avg       0.76      0.77      0.75       231\n",
            "\n",
            "0.7705627705627706\n",
            "error\n",
            "0.22943722943722944\n"
          ],
          "name": "stdout"
        }
      ]
    },
    {
      "cell_type": "markdown",
      "metadata": {
        "id": "AH-VhZLfJMxB"
      },
      "source": [
        "<h3>Bagging</h3>"
      ]
    },
    {
      "cell_type": "markdown",
      "metadata": {
        "id": "wCpTHvRD5xbP"
      },
      "source": [
        "<h2> Random Forest Classifier</h2>"
      ]
    },
    {
      "cell_type": "code",
      "metadata": {
        "id": "yg7R3I4n51Ya"
      },
      "source": [
        "random_forest = RandomForestClassifier(n_estimators=10, random_state=12)"
      ],
      "execution_count": 44,
      "outputs": []
    },
    {
      "cell_type": "code",
      "metadata": {
        "id": "AorQ58F07hqk",
        "outputId": "f17ffb13-28e9-472a-92ad-d503b2ab7110",
        "colab": {
          "base_uri": "https://localhost:8080/"
        }
      },
      "source": [
        "random_forest.fit(X_train,y_train)"
      ],
      "execution_count": 45,
      "outputs": [
        {
          "output_type": "execute_result",
          "data": {
            "text/plain": [
              "RandomForestClassifier(bootstrap=True, ccp_alpha=0.0, class_weight=None,\n",
              "                       criterion='gini', max_depth=None, max_features='auto',\n",
              "                       max_leaf_nodes=None, max_samples=None,\n",
              "                       min_impurity_decrease=0.0, min_impurity_split=None,\n",
              "                       min_samples_leaf=1, min_samples_split=2,\n",
              "                       min_weight_fraction_leaf=0.0, n_estimators=10,\n",
              "                       n_jobs=None, oob_score=False, random_state=12, verbose=0,\n",
              "                       warm_start=False)"
            ]
          },
          "metadata": {
            "tags": []
          },
          "execution_count": 45
        }
      ]
    },
    {
      "cell_type": "code",
      "metadata": {
        "id": "t2m6TJcA8IiY"
      },
      "source": [
        "rf=random_forest.predict(X_test)"
      ],
      "execution_count": 46,
      "outputs": []
    },
    {
      "cell_type": "code",
      "metadata": {
        "id": "RodHVzgJ8N9l",
        "outputId": "a2a7e704-6233-4b13-bec0-7fee2d7718db",
        "colab": {
          "base_uri": "https://localhost:8080/"
        }
      },
      "source": [
        "print(confusion_matrix(y_test,rf))\n",
        "print(classification_report(y_test,rf))\n",
        "print(accuracy_score(y_test,rf))\n",
        "print('error')\n",
        "print(1-accuracy_score(y_test,rf))"
      ],
      "execution_count": 47,
      "outputs": [
        {
          "output_type": "stream",
          "text": [
            "[[142  15]\n",
            " [ 43  31]]\n",
            "              precision    recall  f1-score   support\n",
            "\n",
            "           0       0.77      0.90      0.83       157\n",
            "           1       0.67      0.42      0.52        74\n",
            "\n",
            "    accuracy                           0.75       231\n",
            "   macro avg       0.72      0.66      0.67       231\n",
            "weighted avg       0.74      0.75      0.73       231\n",
            "\n",
            "0.7489177489177489\n",
            "error\n",
            "0.25108225108225113\n"
          ],
          "name": "stdout"
        }
      ]
    },
    {
      "cell_type": "code",
      "metadata": {
        "id": "_fVOwEXK8WoN"
      },
      "source": [
        "from sklearn.model_selection import KFold\n",
        "#kf=KFold(n_splits=5,shuffle=True)"
      ],
      "execution_count": 48,
      "outputs": []
    },
    {
      "cell_type": "code",
      "metadata": {
        "id": "pG90ZSnUJ4x5"
      },
      "source": [
        "kf=KFold(n_splits=10,shuffle=True)"
      ],
      "execution_count": 49,
      "outputs": []
    },
    {
      "cell_type": "code",
      "metadata": {
        "id": "cZUUdWaPKKX2",
        "outputId": "4841fbae-8771-4d25-fe25-b162ed32650b",
        "colab": {
          "base_uri": "https://localhost:8080/"
        }
      },
      "source": [
        "data=df_class.drop(['Outcome'],axis=1)\n",
        "print(data.head)"
      ],
      "execution_count": 50,
      "outputs": [
        {
          "output_type": "stream",
          "text": [
            "<bound method NDFrame.head of      Pregnancies  Glucose  BloodPressure  ...   BMI  DiabetesPedigreeFunction  Age\n",
            "0              6      148             72  ...  33.6                     0.627   50\n",
            "1              1       85             66  ...  26.6                     0.351   31\n",
            "2              8      183             64  ...  23.3                     0.672   32\n",
            "3              1       89             66  ...  28.1                     0.167   21\n",
            "4              0      137             40  ...  43.1                     2.288   33\n",
            "..           ...      ...            ...  ...   ...                       ...  ...\n",
            "763           10      101             76  ...  32.9                     0.171   63\n",
            "764            2      122             70  ...  36.8                     0.340   27\n",
            "765            5      121             72  ...  26.2                     0.245   30\n",
            "766            1      126             60  ...  30.1                     0.349   47\n",
            "767            1       93             70  ...  30.4                     0.315   23\n",
            "\n",
            "[768 rows x 8 columns]>\n"
          ],
          "name": "stdout"
        }
      ]
    },
    {
      "cell_type": "code",
      "metadata": {
        "id": "wflr7pgsKyFz",
        "outputId": "5a43cb70-e7a2-4448-b261-b320c11b6361",
        "colab": {
          "base_uri": "https://localhost:8080/",
          "height": 299
        }
      },
      "source": [
        "plt.figure(figsize=(12,4))\n",
        "sns.heatmap(data.isnull(),cbar=False,cmap='coolwarm',yticklabels=False)\n",
        "plt.title('Missing value in the dataset')"
      ],
      "execution_count": 51,
      "outputs": [
        {
          "output_type": "execute_result",
          "data": {
            "text/plain": [
              "Text(0.5, 1.0, 'Missing value in the dataset')"
            ]
          },
          "metadata": {
            "tags": []
          },
          "execution_count": 51
        },
        {
          "output_type": "display_data",
          "data": {
            "image/png": "[encoded data removed]",
            "text/plain": [
              "<Figure size 864x288 with 1 Axes>"
            ]
          },
          "metadata": {
            "tags": [],
            "needs_background": "light"
          }
        }
      ]
    },
    {
      "cell_type": "code",
      "metadata": {
        "id": "JemM-lHrLW6g"
      },
      "source": [
        "rf_k=RandomForestClassifier(n_estimators=10)"
      ],
      "execution_count": 52,
      "outputs": []
    },
    {
      "cell_type": "code",
      "metadata": {
        "id": "xLjgh1ilMFIi"
      },
      "source": [
        "from sklearn.model_selection import cross_val_score\n",
        "acc_rf=cross_val_score(rf_k,data,df_class.Outcome,scoring='accuracy',cv=10)"
      ],
      "execution_count": 53,
      "outputs": []
    },
    {
      "cell_type": "code",
      "metadata": {
        "id": "YCLJq1FyMuSV",
        "outputId": "52f46694-d7ea-4da4-9d88-cba0c0514a4e",
        "colab": {
          "base_uri": "https://localhost:8080/"
        }
      },
      "source": [
        "print(acc_rf.mean())\n",
        "print('error')\n",
        "print(1-(acc_rf.mean()))\n"
      ],
      "execution_count": 66,
      "outputs": [
        {
          "output_type": "stream",
          "text": [
            "0.7525632262474369\n",
            "error\n",
            "0.24743677375256312\n"
          ],
          "name": "stdout"
        }
      ]
    },
    {
      "cell_type": "code",
      "metadata": {
        "id": "bycvekWOrOBq",
        "outputId": "c10b2bd2-09e9-4cb8-c6a6-518e34e8ff34",
        "colab": {
          "base_uri": "https://localhost:8080/"
        }
      },
      "source": [
        "\n",
        "array=[10,20,40,60,80,100]\n",
        "for i in range(0,6):\n",
        "  random_forest = RandomForestClassifier(n_estimators=array[i])\n",
        "  random_forest.fit(X_train,y_train)\n",
        "  rf_predict=random_forest.predict(X_test)\n",
        "  print('Accuracy of Rain Forest when estimate is ',array[i], ' : ',accuracy_score(y_test,rf_predict))"
      ],
      "execution_count": 88,
      "outputs": [
        {
          "output_type": "stream",
          "text": [
            "Accuracy of Rain Forest when estimate is  10  :  0.7532467532467533\n",
            "Accuracy of Rain Forest when estimate is  20  :  0.7619047619047619\n",
            "Accuracy of Rain Forest when estimate is  40  :  0.7705627705627706\n",
            "Accuracy of Rain Forest when estimate is  60  :  0.7619047619047619\n",
            "Accuracy of Rain Forest when estimate is  80  :  0.7748917748917749\n",
            "Accuracy of Rain Forest when estimate is  100  :  0.7792207792207793\n"
          ],
          "name": "stdout"
        }
      ]
    },
    {
      "cell_type": "markdown",
      "metadata": {
        "id": "pRM3s5VINjxd"
      },
      "source": [
        "<h3> Boosting</h3>"
      ]
    },
    {
      "cell_type": "code",
      "metadata": {
        "id": "0hTe9CqyRb_u"
      },
      "source": [
        "k_folds = KFold(n_splits=20,shuffle=True)"
      ],
      "execution_count": 55,
      "outputs": []
    },
    {
      "cell_type": "code",
      "metadata": {
        "id": "jBg0X-0RMyJO"
      },
      "source": [
        "from sklearn.ensemble import AdaBoostClassifier\n",
        "ada_boost = AdaBoostClassifier(n_estimators=10, random_state=12)"
      ],
      "execution_count": 56,
      "outputs": []
    },
    {
      "cell_type": "code",
      "metadata": {
        "id": "AKKFGnNmRIdy"
      },
      "source": [
        "results = cross_val_score(ada_boost, X_train, y_train, cv=k_folds)"
      ],
      "execution_count": 57,
      "outputs": []
    },
    {
      "cell_type": "code",
      "metadata": {
        "id": "cQSuDWHCRn4h",
        "outputId": "be83510f-e57b-4353-f437-497153632681",
        "colab": {
          "base_uri": "https://localhost:8080/"
        }
      },
      "source": [
        "print(results.mean()*100)"
      ],
      "execution_count": 58,
      "outputs": [
        {
          "output_type": "stream",
          "text": [
            "72.22934472934472\n"
          ],
          "name": "stdout"
        }
      ]
    },
    {
      "cell_type": "code",
      "metadata": {
        "id": "leXE36GrRvqm"
      },
      "source": [
        "ada_boost.fit(X_train,y_train)\n",
        "ada_predict=ada_boost.predict(X_test)"
      ],
      "execution_count": 59,
      "outputs": []
    },
    {
      "cell_type": "code",
      "metadata": {
        "id": "swcv3PHzSCmD",
        "outputId": "685065aa-a790-4a9a-9404-f59ebfe93adc",
        "colab": {
          "base_uri": "https://localhost:8080/"
        }
      },
      "source": [
        "print(confusion_matrix(y_test,ada_predict))\n",
        "print(classification_report(y_test,ada_predict))\n",
        "print(accuracy_score(y_test,ada_predict))\n",
        "print('error')\n",
        "print(1-accuracy_score(y_test,ada_predict))"
      ],
      "execution_count": 60,
      "outputs": [
        {
          "output_type": "stream",
          "text": [
            "[[139  18]\n",
            " [ 44  30]]\n",
            "              precision    recall  f1-score   support\n",
            "\n",
            "           0       0.76      0.89      0.82       157\n",
            "           1       0.62      0.41      0.49        74\n",
            "\n",
            "    accuracy                           0.73       231\n",
            "   macro avg       0.69      0.65      0.65       231\n",
            "weighted avg       0.72      0.73      0.71       231\n",
            "\n",
            "0.7316017316017316\n",
            "error\n",
            "0.2683982683982684\n"
          ],
          "name": "stdout"
        }
      ]
    },
    {
      "cell_type": "code",
      "metadata": {
        "id": "zf95Iun4rXYK",
        "outputId": "dfa30fba-4f44-4ed6-ce7f-b64c24af78b6",
        "colab": {
          "base_uri": "https://localhost:8080/"
        }
      },
      "source": [
        "array=[10,20,40,60,80,100]\n",
        "for i in range(0,6):\n",
        "  ada_boost = AdaBoostClassifier(n_estimators=array[i], random_state=12)\n",
        "  ada_boost.fit(X_train,y_train)\n",
        "  ada_predict=ada_boost.predict(X_test)\n",
        "  print('Accuracy when estimate is ',array[i], ' : ',accuracy_score(y_test,ada_predict))"
      ],
      "execution_count": 69,
      "outputs": [
        {
          "output_type": "stream",
          "text": [
            "Accuracy when estimate is  10  :  0.7316017316017316\n",
            "Accuracy when estimate is  20  :  0.7532467532467533\n",
            "Accuracy when estimate is  40  :  0.7532467532467533\n",
            "Accuracy when estimate is  60  :  0.7705627705627706\n",
            "Accuracy when estimate is  80  :  0.7662337662337663\n",
            "Accuracy when estimate is  100  :  0.7532467532467533\n"
          ],
          "name": "stdout"
        }
      ]
    }
  ]
}